{
 "cells": [
  {
   "cell_type": "markdown",
   "metadata": {},
   "source": [
    "# State compression\n",
    "Compress a higher-order network of air traffic"
   ]
  },
  {
   "cell_type": "markdown",
   "metadata": {},
   "source": [
    "## Original second-order network"
   ]
  },
  {
   "cell_type": "code",
   "execution_count": 1,
   "metadata": {
    "collapsed": false
   },
   "outputs": [],
   "source": [
    "import sys\n",
    "sys.path.append(\"../Infomap/build/py/\")\n",
    "import infomap"
   ]
  },
  {
   "cell_type": "code",
   "execution_count": 26,
   "metadata": {
    "collapsed": true
   },
   "outputs": [],
   "source": [
    "from collections import namedtuple\n",
    "InfomapResult = namedtuple('InfomapResult', 'name numNodes numStateNodes numLevels codelength')\n",
    "\n",
    "def getInfomapResult(infomapWrapper, name):\n",
    "    tree = infomapWrapper.tree\n",
    "    network = infomapWrapper.network\n",
    "    return InfomapResult(name, network.numNodes(), network.numStateNodes(), tree.maxDepth(), tree.codelength())\n",
    "\n",
    "def printInfomapResult(result):\n",
    "    print(\"%s: %d nodes in %d states partitioned with codelength %.3f in %d levels.\" % (result.name, result.numNodes, result.numStateNodes, result.codelength, result.numLevels))"
   ]
  },
  {
   "cell_type": "code",
   "execution_count": 21,
   "metadata": {
    "collapsed": false
   },
   "outputs": [
    {
     "data": {
      "text/plain": [
       "0"
      ]
     },
     "execution_count": 21,
     "metadata": {},
     "output_type": "execute_result"
    }
   ],
   "source": [
    "infomapWrapper = infomap.MemInfomap(\"-i 3gram\")\n",
    "\n",
    "infomapWrapper.readInputData(\"./air2011paths_3grams.net\")\n",
    "\n",
    "infomapWrapper.run()"
   ]
  },
  {
   "cell_type": "code",
   "execution_count": 28,
   "metadata": {
    "collapsed": false
   },
   "outputs": [
    {
     "name": "stdout",
     "output_type": "stream",
     "text": [
      "original: 464 nodes in 17984 states partitioned with codelength 4.466 in 5 levels.\n"
     ]
    }
   ],
   "source": [
    "originalResult = getInfomapResult(infomapWrapper, \"original\")\n",
    "printInfomapResult(originalResult)"
   ]
  },
  {
   "cell_type": "markdown",
   "metadata": {},
   "source": [
    "## Compress second-order state nodes"
   ]
  },
  {
   "cell_type": "code",
   "execution_count": 1,
   "metadata": {
    "collapsed": false
   },
   "outputs": [
    {
     "name": "stdout",
     "output_type": "stream",
     "text": [
      "Run compress....\n",
      "networkPath: air2011paths_3grams.net\n",
      "outPath: output/\n",
      "limit: 1000000\n",
      "increase: 1.250000\n",
      "zero based: false\n",
      "Parse network....\n",
      "Build map....\n",
      "Build tree....\n",
      "1 2 3 4 5 6 7 8 9 10 11 12 13 14 15 16 17 18 19 20 21 22 23 24 25 26 27 28 29 30 31 32 33 34 35 36 37 38 39 40 41 42 43 44 45 46 47 48 49 50 51 52 53 54 55 56 57 58 59 60 61 62 63 64 65 66 67 68 69 70 71 72 73 74 75 76 77 78 79 80 81 82 83 84 85 86 87 88 89 90 91 92 93 94 95 96 97 98 99 100 101 102 103 104 105 106 107 108 109 110 111 112 113 114 115 116 117 118 119 120 121 122 123 124 125 126 127 128 129 130 131 132 134 135 136 137 138 139 140 141 142 143 144 145 146 147 148 149 150 151 152 153 154 155 156 157 158 159 160 161 162 163 164 165 166 167 168 169 170 171 172 173 174 175 176 177 178 179 180 181 182 183 184 185 186 187 188 189 190 191 192 193 194 195 196 197 198 199 200 201 202 203 204 205 206 207 208 209 210 211 212 213 214 215 216 217 218 219 220 221 222 223 224 225 226 227 228 229 230 231 232 233 234 235 236 237 238 239 241 242 243 244 245 246 247 248 249 250 251 252 253 254 255 256 257 258 259 260 261 262 263 264 265 266 267 268 269 270 271 272 273 274 275 276 277 278 279 280 281 282 283 284 285 286 287 288 289 290 291 292 293 294 295 296 297 298 299 300 301 302 303 304 305 306 307 308 309 310 311 312 313 314 315 316 317 318 319 320 321 322 323 324 325 326 327 328 329 330 331 332 333 334 335 336 337 338 339 340 341 342 343 344 345 346 347 349 350 351 352 353 354 355 356 357 358 359 360 361 362 363 364 365 366 367 368 369 370 371 372 373 374 375 376 377 378 379 380 381 382 383 384 385 386 387 388 389 390 391 392 393 394 395 396 397 398 399 400 401 402 403 404 405 406 407 408 409 410 411 413 414 415 416 417 418 419 420 421 422 423 424 425 426 427 428 429 430 431 432 433 434 435 436 437 438 439 440 441 442 443 444 445 446 447 448 449 450 451 452 453 454 455 456 457 458 459 460 461 462 463 464 \n",
      "Finished building compression tree\n",
      "4.86678e+08 6.73379e+08 4.48233e+07 4.16527\n",
      "Handle tree....\n",
      "1.86701e+08 2.3502e+08\n",
      "460   0     5.243266 1.258807\n",
      "460   0     5.243266 1.258807 -> printed to file\n",
      "575   115   4.934015 1.184562 -> printed to file\n",
      "719   259   4.768747 1.144884 -> printed to file\n",
      "899   439   4.641728 1.114390 -> printed to file\n",
      "1124  664   4.536889 1.089220 -> printed to file\n",
      "1404  944   4.447698 1.067807 -> printed to file\n",
      "1460  1000  4.433496 1.064397\n",
      "1755  1295  4.371676 1.049555 -> printed to file\n",
      "2194  1734  4.307560 1.034162 -> printed to file\n",
      "2460  2000  4.279444 1.027412\n",
      "2742  2282  4.255992 1.021782 -> printed to file\n",
      "3428  2968  4.216475 1.012294 -> printed to file\n",
      "3460  3000  4.215084 1.011961\n",
      "4285  3825  4.188365 1.005546 -> printed to file\n",
      "4460  4000  4.184612 1.004645\n",
      "5356  4896  4.172290 1.001687 -> printed to file\n",
      "5460  5000  4.171440 1.001482\n",
      "6460  6000  4.167234 1.000473\n",
      "6694  6234  4.166839 1.000378 -> printed to file\n",
      "7460  7000  4.166087 1.000197\n",
      "8368  7908  4.165686 1.000101 -> printed to file\n",
      "8460  8000  4.165659 1.000095\n",
      "9460  9000  4.165461 1.000047\n",
      "10460 10000 4.165360 1.000023\n",
      "10460 10000 4.165360 1.000023 -> printed to file\n",
      "Handle the rest...\n",
      "17483 17023 4.165265 1.000000\n"
     ]
    }
   ],
   "source": [
    "!./compress air2011paths_3grams.net output/"
   ]
  },
  {
   "cell_type": "code",
   "execution_count": 3,
   "metadata": {
    "collapsed": false
   },
   "outputs": [
    {
     "name": "stdout",
     "output_type": "stream",
     "text": [
      "10465.net 1409.net  1760.net  2747.net  4290.net  5361.net  6699.net  8373.net\r\n",
      "1129.net  17488.net 2199.net  3433.net  465.net   580.net   724.net   904.net\r\n"
     ]
    }
   ],
   "source": [
    "!ls output/"
   ]
  },
  {
   "cell_type": "code",
   "execution_count": 7,
   "metadata": {
    "collapsed": false
   },
   "outputs": [
    {
     "name": "stdout",
     "output_type": "stream",
     "text": [
      "# Number of states: 465\r\n",
      "# Compression ratio: 1.25881\r\n",
      "# Conditional entropy: 5.24327\r\n",
      "# First order conditional entropy: 5.24327\r\n",
      "# Second order conditional entropy: 4.16527\r\n",
      "# 1st order nodes: 460\r\n",
      "# 2nd order nodes: 17483\r\n"
     ]
    }
   ],
   "source": [
    "!head -n7 output/465.net"
   ]
  },
  {
   "cell_type": "code",
   "execution_count": 38,
   "metadata": {
    "collapsed": true
   },
   "outputs": [],
   "source": [
    "stateNetworks = !ls output/\n",
    "stateNetworks = sorted(stateNetworks, key=lambda filename: int(filename.replace(\".net\", \"\")))"
   ]
  },
  {
   "cell_type": "code",
   "execution_count": 39,
   "metadata": {
    "collapsed": false
   },
   "outputs": [],
   "source": [
    "def runStateNetwork(filename):\n",
    "    infomapWrapper = infomap.MemInfomap(\"-i states\")\n",
    "\n",
    "    infomapWrapper.readInputData(\"./output/{}\".format(filename))\n",
    "\n",
    "    infomapWrapper.run()\n",
    "\n",
    "    return getInfomapResult(infomapWrapper, filename.replace(\".net\", \" states\"))"
   ]
  },
  {
   "cell_type": "code",
   "execution_count": 40,
   "metadata": {
    "collapsed": false
   },
   "outputs": [],
   "source": [
    "infomapResults = []\n",
    "for filename in stateNetworks:\n",
    "    infomapResults.append(runStateNetwork(filename))"
   ]
  },
  {
   "cell_type": "code",
   "execution_count": 45,
   "metadata": {
    "collapsed": true
   },
   "outputs": [],
   "source": [
    "infomapResults.append(originalResult)"
   ]
  },
  {
   "cell_type": "code",
   "execution_count": 48,
   "metadata": {
    "collapsed": true
   },
   "outputs": [],
   "source": [
    "import pandas as pd"
   ]
  },
  {
   "cell_type": "code",
   "execution_count": 54,
   "metadata": {
    "collapsed": false
   },
   "outputs": [
    {
     "data": {
      "text/html": [
       "<div>\n",
       "<table border=\"1\" class=\"dataframe\">\n",
       "  <thead>\n",
       "    <tr style=\"text-align: right;\">\n",
       "      <th></th>\n",
       "      <th>name</th>\n",
       "      <th>numNodes</th>\n",
       "      <th>numStateNodes</th>\n",
       "      <th>numLevels</th>\n",
       "      <th>codelength</th>\n",
       "    </tr>\n",
       "  </thead>\n",
       "  <tbody>\n",
       "    <tr>\n",
       "      <th>0</th>\n",
       "      <td>465 states</td>\n",
       "      <td>464</td>\n",
       "      <td>464</td>\n",
       "      <td>2</td>\n",
       "      <td>6.316740</td>\n",
       "    </tr>\n",
       "    <tr>\n",
       "      <th>1</th>\n",
       "      <td>580 states</td>\n",
       "      <td>464</td>\n",
       "      <td>579</td>\n",
       "      <td>2</td>\n",
       "      <td>6.426455</td>\n",
       "    </tr>\n",
       "    <tr>\n",
       "      <th>2</th>\n",
       "      <td>724 states</td>\n",
       "      <td>464</td>\n",
       "      <td>723</td>\n",
       "      <td>2</td>\n",
       "      <td>6.437947</td>\n",
       "    </tr>\n",
       "    <tr>\n",
       "      <th>3</th>\n",
       "      <td>904 states</td>\n",
       "      <td>464</td>\n",
       "      <td>903</td>\n",
       "      <td>2</td>\n",
       "      <td>6.434379</td>\n",
       "    </tr>\n",
       "    <tr>\n",
       "      <th>4</th>\n",
       "      <td>1129 states</td>\n",
       "      <td>464</td>\n",
       "      <td>1128</td>\n",
       "      <td>2</td>\n",
       "      <td>6.428054</td>\n",
       "    </tr>\n",
       "    <tr>\n",
       "      <th>5</th>\n",
       "      <td>1409 states</td>\n",
       "      <td>464</td>\n",
       "      <td>1408</td>\n",
       "      <td>2</td>\n",
       "      <td>6.435656</td>\n",
       "    </tr>\n",
       "    <tr>\n",
       "      <th>6</th>\n",
       "      <td>1760 states</td>\n",
       "      <td>464</td>\n",
       "      <td>1759</td>\n",
       "      <td>2</td>\n",
       "      <td>6.368341</td>\n",
       "    </tr>\n",
       "    <tr>\n",
       "      <th>7</th>\n",
       "      <td>2199 states</td>\n",
       "      <td>464</td>\n",
       "      <td>2198</td>\n",
       "      <td>2</td>\n",
       "      <td>6.239505</td>\n",
       "    </tr>\n",
       "    <tr>\n",
       "      <th>8</th>\n",
       "      <td>2747 states</td>\n",
       "      <td>464</td>\n",
       "      <td>2746</td>\n",
       "      <td>3</td>\n",
       "      <td>6.093051</td>\n",
       "    </tr>\n",
       "    <tr>\n",
       "      <th>9</th>\n",
       "      <td>3433 states</td>\n",
       "      <td>464</td>\n",
       "      <td>3432</td>\n",
       "      <td>4</td>\n",
       "      <td>5.973520</td>\n",
       "    </tr>\n",
       "    <tr>\n",
       "      <th>10</th>\n",
       "      <td>4290 states</td>\n",
       "      <td>464</td>\n",
       "      <td>4289</td>\n",
       "      <td>4</td>\n",
       "      <td>5.865087</td>\n",
       "    </tr>\n",
       "    <tr>\n",
       "      <th>11</th>\n",
       "      <td>5361 states</td>\n",
       "      <td>464</td>\n",
       "      <td>5360</td>\n",
       "      <td>4</td>\n",
       "      <td>5.772012</td>\n",
       "    </tr>\n",
       "    <tr>\n",
       "      <th>12</th>\n",
       "      <td>6699 states</td>\n",
       "      <td>464</td>\n",
       "      <td>6698</td>\n",
       "      <td>4</td>\n",
       "      <td>5.734496</td>\n",
       "    </tr>\n",
       "    <tr>\n",
       "      <th>13</th>\n",
       "      <td>8373 states</td>\n",
       "      <td>464</td>\n",
       "      <td>8372</td>\n",
       "      <td>4</td>\n",
       "      <td>5.733030</td>\n",
       "    </tr>\n",
       "    <tr>\n",
       "      <th>14</th>\n",
       "      <td>10465 states</td>\n",
       "      <td>464</td>\n",
       "      <td>10464</td>\n",
       "      <td>5</td>\n",
       "      <td>5.731411</td>\n",
       "    </tr>\n",
       "    <tr>\n",
       "      <th>15</th>\n",
       "      <td>17488 states</td>\n",
       "      <td>464</td>\n",
       "      <td>17487</td>\n",
       "      <td>4</td>\n",
       "      <td>5.731552</td>\n",
       "    </tr>\n",
       "    <tr>\n",
       "      <th>16</th>\n",
       "      <td>original</td>\n",
       "      <td>464</td>\n",
       "      <td>17984</td>\n",
       "      <td>5</td>\n",
       "      <td>4.466188</td>\n",
       "    </tr>\n",
       "  </tbody>\n",
       "</table>\n",
       "</div>"
      ],
      "text/plain": [
       "            name  numNodes  numStateNodes  numLevels  codelength\n",
       "0     465 states       464            464          2    6.316740\n",
       "1     580 states       464            579          2    6.426455\n",
       "2     724 states       464            723          2    6.437947\n",
       "3     904 states       464            903          2    6.434379\n",
       "4    1129 states       464           1128          2    6.428054\n",
       "5    1409 states       464           1408          2    6.435656\n",
       "6    1760 states       464           1759          2    6.368341\n",
       "7    2199 states       464           2198          2    6.239505\n",
       "8    2747 states       464           2746          3    6.093051\n",
       "9    3433 states       464           3432          4    5.973520\n",
       "10   4290 states       464           4289          4    5.865087\n",
       "11   5361 states       464           5360          4    5.772012\n",
       "12   6699 states       464           6698          4    5.734496\n",
       "13   8373 states       464           8372          4    5.733030\n",
       "14  10465 states       464          10464          5    5.731411\n",
       "15  17488 states       464          17487          4    5.731552\n",
       "16      original       464          17984          5    4.466188"
      ]
     },
     "execution_count": 54,
     "metadata": {},
     "output_type": "execute_result"
    }
   ],
   "source": [
    "result = pd.DataFrame(infomapResults)\n",
    "result"
   ]
  },
  {
   "cell_type": "code",
   "execution_count": 46,
   "metadata": {
    "collapsed": false
   },
   "outputs": [],
   "source": [
    "import matplotlib.pyplot as plt\n",
    "# Draw plots within the notebook:\n",
    "%matplotlib inline\n",
    "import seaborn as sns\n",
    "sns.set() # Set nice defaults to matplotlib"
   ]
  },
  {
   "cell_type": "code",
   "execution_count": 69,
   "metadata": {
    "collapsed": false
   },
   "outputs": [
    {
     "data": {
      "text/plain": [
       "<matplotlib.text.Text at 0x124138f10>"
      ]
     },
     "execution_count": 69,
     "metadata": {},
     "output_type": "execute_result"
    },
    {
     "data": {
      "image/png": "[encoded data removed]",
      "text/plain": [
       "<matplotlib.figure.Figure at 0x12380f410>"
      ]
     },
     "metadata": {},
     "output_type": "display_data"
    }
   ],
   "source": [
    "plt.plot(result['numStateNodes'], result['codelength'], '-o')\n",
    "plt.xlabel('Number of state nodes')\n",
    "plt.ylabel('Codelength')\n",
    "plt.title('Compression of states')\n",
    "plt.text(14000, 4.45, 'Uncompressed')"
   ]
  },
  {
   "cell_type": "code",
   "execution_count": null,
   "metadata": {
    "collapsed": true
   },
   "outputs": [],
   "source": []
  }
 ],
 "metadata": {
  "kernelspec": {
   "display_name": "Python 2",
   "language": "python",
   "name": "python2"
  },
  "language_info": {
   "codemirror_mode": {
    "name": "ipython",
    "version": 2
   },
   "file_extension": ".py",
   "mimetype": "text/x-python",
   "name": "python",
   "nbconvert_exporter": "python",
   "pygments_lexer": "ipython2",
   "version": "2.7.11"
  }
 },
 "nbformat": 4,
 "nbformat_minor": 0
}
